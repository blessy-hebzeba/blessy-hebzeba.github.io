{
 "cells": [
  {
   "cell_type": "raw",
   "metadata": {
    "collapsed": true,
    "pycharm": {
     "name": "#%% raw\n"
    }
   },
   "source": [
    "Logistic Regression is used for a binary classification problem, where the output is 0 or 1. \n",
    "\n",
    "This is a supervised learning algorithm as it uses labels associated with the data for learning.\n",
    "\n",
    "A sample will be of the form (x, y), where x is n dimensional feature vector and y is the label and y∈{0,1}.\n",
    "\n",
    "Sigmoid function is used in the output neuron as the output is a probability of x belonging to class 0 or class 1.\n",
    "If the probability is greater than 0.5, then the output is class 1. Otherwise, class 0.\n",
    "\n"
   ]
  },
  {
   "cell_type": "code",
   "execution_count": null,
   "metadata": {},
   "outputs": [],
   "source": []
  }
 ],
 "metadata": {
  "kernelspec": {
   "display_name": "Python 3",
   "language": "python",
   "name": "python3"
  },
  "language_info": {
   "codemirror_mode": {
    "name": "ipython",
    "version": 3
   },
   "file_extension": ".py",
   "mimetype": "text/x-python",
   "name": "python",
   "nbconvert_exporter": "python",
   "pygments_lexer": "ipython3",
   "version": "3.7.7"
  }
 },
 "nbformat": 4,
 "nbformat_minor": 1
}